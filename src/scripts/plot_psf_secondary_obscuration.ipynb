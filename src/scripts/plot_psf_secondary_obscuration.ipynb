{
 "cells": [
  {
   "cell_type": "code",
   "execution_count": null,
   "id": "0824a8a2",
   "metadata": {},
   "outputs": [],
   "source": [
    "def is_lab_notebook():\n",
    "    import re\n",
    "    import psutil\n",
    "\n",
    "    return any(re.search('jupyter-notebook', x)\n",
    "               for x in psutil.Process().parent().cmdline())\n"
   ]
  },
  {
   "cell_type": "code",
   "execution_count": null,
   "id": "e30d32d1",
   "metadata": {},
   "outputs": [],
   "source": [
    "is_lab_notebook()"
   ]
  },
  {
   "cell_type": "code",
   "execution_count": null,
   "id": "49d5a947",
   "metadata": {},
   "outputs": [],
   "source": [
    "import psutil\n",
    "print(psutil.Process().parent().cmdline())"
   ]
  },
  {
   "cell_type": "code",
   "execution_count": null,
   "id": "acc1e91a",
   "metadata": {},
   "outputs": [],
   "source": [
    "get_ipython().__class__.__name__"
   ]
  },
  {
   "cell_type": "code",
   "execution_count": null,
   "id": "20522fcb",
   "metadata": {},
   "outputs": [],
   "source": [
    "from hcipy import *\n",
    "import numpy as np\n",
    "import matplotlib as mpl\n",
    "import matplotlib.pyplot as plt\n",
    "import paths\n",
    "\n",
    "mpl.rcParams['figure.dpi'] = 100"
   ]
  },
  {
   "cell_type": "code",
   "execution_count": null,
   "id": "cb86bea0",
   "metadata": {},
   "outputs": [],
   "source": [
    "pupil_grid = make_pupil_grid(256, 1.5)\n",
    "focal_grid = make_focal_grid(8, 12)\n",
    "prop = FraunhoferPropagator(pupil_grid, focal_grid)\n",
    "\n",
    "\n",
    "ratio = 0.5\n",
    "aperture = evaluate_supersampled(make_obstructed_circular_aperture(1,central_obscuration_ratio=ratio),\n",
    "                                 pupil_grid, 4)\n",
    "\n",
    "wf = Wavefront(aperture)\n",
    "img_ref = prop(wf).intensity"
   ]
  },
  {
   "cell_type": "code",
   "execution_count": null,
   "id": "ca06aa04-aa08-4055-9011-9ecb1f4e86b6",
   "metadata": {},
   "outputs": [],
   "source": [
    "fig, (ax1, ax2) = plt.subplots(1,2,figsize=(8,4))\n",
    "\n",
    "imshow_field(aperture, \n",
    "             ax=ax1,\n",
    "             vmin=-5, \n",
    "             cmap='inferno')\n",
    "\n",
    "imshow_field(np.log10(img_ref / img_ref.max()), \n",
    "             ax=ax2,\n",
    "             vmin=-5, \n",
    "             cmap='viridis')\n",
    "fig.suptitle(f\"PSF of an aperture with obscuration ratio {ratio:0.2f}\")\n",
    "ax1.set_xlim(-0.5,0.5)\n",
    "ax1.set_ylim(-0.5,0.5)\n",
    "ax1.set_xlabel(\"X [pupil]\")\n",
    "ax1.set_ylabel(\"Y [pupil]\")\n",
    "ax2.set_xlabel(\"X [$\\lambda/D$]\")"
   ]
  },
  {
   "cell_type": "code",
   "execution_count": null,
   "id": "bd6224ba",
   "metadata": {},
   "outputs": [],
   "source": []
  }
 ],
 "metadata": {
  "language_info": {
   "name": "python"
  }
 },
 "nbformat": 4,
 "nbformat_minor": 5
}
