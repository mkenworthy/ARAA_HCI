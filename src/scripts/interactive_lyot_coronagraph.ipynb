{
 "cells": [
  {
   "cell_type": "markdown",
   "metadata": {},
   "source": [
    "# Interactive Lyot coronagraph\n",
    "\n",
    "M Kenworthy // Leiden Observatory // kenworthy@strw.leidenuniv.nl\n",
    "\n",
    "Based on E. Por hcipy tutorials\n"
   ]
  },
  {
   "cell_type": "markdown",
   "metadata": {},
   "source": [
    "The next cell is used in Google Colab to install `hcipy` - skip it if you already have it installed"
   ]
  },
  {
   "cell_type": "code",
   "execution_count": 17,
   "metadata": {},
   "outputs": [
    {
     "name": "stdout",
     "output_type": "stream",
     "text": [
      "Requirement already satisfied: hcipy in /Users/kenworthy/anaconda3/envs/araaEnv/lib/python3.12/site-packages (0.6.0)\n",
      "Requirement already satisfied: numpy in /Users/kenworthy/anaconda3/envs/araaEnv/lib/python3.12/site-packages (from hcipy) (1.26.4)\n",
      "Requirement already satisfied: scipy in /Users/kenworthy/anaconda3/envs/araaEnv/lib/python3.12/site-packages (from hcipy) (1.13.0)\n",
      "Requirement already satisfied: matplotlib>=2.0.0 in /Users/kenworthy/anaconda3/envs/araaEnv/lib/python3.12/site-packages (from hcipy) (3.8.4)\n",
      "Requirement already satisfied: Pillow in /Users/kenworthy/anaconda3/envs/araaEnv/lib/python3.12/site-packages (from hcipy) (10.3.0)\n",
      "Requirement already satisfied: pyyaml in /Users/kenworthy/anaconda3/envs/araaEnv/lib/python3.12/site-packages (from hcipy) (6.0.1)\n",
      "Requirement already satisfied: astropy in /Users/kenworthy/anaconda3/envs/araaEnv/lib/python3.12/site-packages (from hcipy) (5.3.4)\n",
      "Requirement already satisfied: imageio in /Users/kenworthy/anaconda3/envs/araaEnv/lib/python3.12/site-packages (from hcipy) (2.33.1)\n",
      "Requirement already satisfied: xxhash in /Users/kenworthy/anaconda3/envs/araaEnv/lib/python3.12/site-packages (from hcipy) (2.0.2)\n",
      "Requirement already satisfied: numexpr in /Users/kenworthy/anaconda3/envs/araaEnv/lib/python3.12/site-packages (from hcipy) (2.8.7)\n",
      "Requirement already satisfied: asdf in /Users/kenworthy/anaconda3/envs/araaEnv/lib/python3.12/site-packages (from hcipy) (2.10.0)\n",
      "Requirement already satisfied: contourpy>=1.0.1 in /Users/kenworthy/anaconda3/envs/araaEnv/lib/python3.12/site-packages (from matplotlib>=2.0.0->hcipy) (1.2.0)\n",
      "Requirement already satisfied: cycler>=0.10 in /Users/kenworthy/anaconda3/envs/araaEnv/lib/python3.12/site-packages (from matplotlib>=2.0.0->hcipy) (0.11.0)\n",
      "Requirement already satisfied: fonttools>=4.22.0 in /Users/kenworthy/anaconda3/envs/araaEnv/lib/python3.12/site-packages (from matplotlib>=2.0.0->hcipy) (4.51.0)\n",
      "Requirement already satisfied: kiwisolver>=1.3.1 in /Users/kenworthy/anaconda3/envs/araaEnv/lib/python3.12/site-packages (from matplotlib>=2.0.0->hcipy) (1.4.4)\n",
      "Requirement already satisfied: packaging>=20.0 in /Users/kenworthy/anaconda3/envs/araaEnv/lib/python3.12/site-packages (from matplotlib>=2.0.0->hcipy) (23.2)\n",
      "Requirement already satisfied: pyparsing>=2.3.1 in /Users/kenworthy/anaconda3/envs/araaEnv/lib/python3.12/site-packages (from matplotlib>=2.0.0->hcipy) (3.0.9)\n",
      "Requirement already satisfied: python-dateutil>=2.7 in /Users/kenworthy/anaconda3/envs/araaEnv/lib/python3.12/site-packages (from matplotlib>=2.0.0->hcipy) (2.9.0.post0)\n",
      "Requirement already satisfied: jmespath>=0.6.2 in /Users/kenworthy/anaconda3/envs/araaEnv/lib/python3.12/site-packages (from asdf->hcipy) (1.0.1)\n",
      "Requirement already satisfied: jsonschema<4,>=3.0.2 in /Users/kenworthy/anaconda3/envs/araaEnv/lib/python3.12/site-packages (from asdf->hcipy) (3.2.0)\n",
      "Requirement already satisfied: semantic-version>=2.8 in /Users/kenworthy/anaconda3/envs/araaEnv/lib/python3.12/site-packages (from asdf->hcipy) (2.8.5)\n",
      "Requirement already satisfied: asdf-standard>=1.0.0 in /Users/kenworthy/anaconda3/envs/araaEnv/lib/python3.12/site-packages (from asdf->hcipy) (1.1.1)\n",
      "Requirement already satisfied: asdf-transform-schemas>=0.2.0 in /Users/kenworthy/anaconda3/envs/araaEnv/lib/python3.12/site-packages (from asdf->hcipy) (0.5.0)\n",
      "Requirement already satisfied: pyerfa>=2.0 in /Users/kenworthy/anaconda3/envs/araaEnv/lib/python3.12/site-packages (from astropy->hcipy) (2.0.0)\n",
      "Requirement already satisfied: attrs>=17.4.0 in /Users/kenworthy/anaconda3/envs/araaEnv/lib/python3.12/site-packages (from jsonschema<4,>=3.0.2->asdf->hcipy) (23.1.0)\n",
      "Requirement already satisfied: pyrsistent>=0.14.0 in /Users/kenworthy/anaconda3/envs/araaEnv/lib/python3.12/site-packages (from jsonschema<4,>=3.0.2->asdf->hcipy) (0.20.0)\n",
      "Requirement already satisfied: setuptools in /Users/kenworthy/anaconda3/envs/araaEnv/lib/python3.12/site-packages (from jsonschema<4,>=3.0.2->asdf->hcipy) (69.5.1)\n",
      "Requirement already satisfied: six>=1.11.0 in /Users/kenworthy/anaconda3/envs/araaEnv/lib/python3.12/site-packages (from jsonschema<4,>=3.0.2->asdf->hcipy) (1.16.0)\n",
      "Note: you may need to restart the kernel to use updated packages.\n"
     ]
    }
   ],
   "source": [
    "%pip install hcipy"
   ]
  },
  {
   "cell_type": "code",
   "execution_count": 1,
   "metadata": {},
   "outputs": [],
   "source": [
    "from hcipy import *\n",
    "import numpy as np\n",
    "import matplotlib as mpl\n",
    "import matplotlib.pyplot as plt\n",
    "import matplotlib.patches as patches\n",
    "\n",
    "\n",
    "import ipywidgets as widgets\n",
    "from ipywidgets import interactive\n",
    "\n"
   ]
  },
  {
   "cell_type": "code",
   "execution_count": 10,
   "metadata": {},
   "outputs": [],
   "source": [
    "pupil_grid = make_pupil_grid(128, 1.5)\n",
    "focal_grid = make_focal_grid(8, 12)\n",
    "prop = FraunhoferPropagator(pupil_grid, focal_grid)\n",
    "\n",
    "aperture = evaluate_supersampled(make_circular_aperture(1), pupil_grid, 4)\n",
    "\n",
    "\n",
    "def addtext(a,s):\n",
    "    a.text(0.05, 0.95, s, ha='left', va='top', transform=a.transAxes, color='white', fontsize=20)\n",
    "\n",
    "def f(dy, mdim, b):\n",
    "    fig, (x2, x3, x4, x5, x6) = plt.subplots(1,5,figsize=(14,4))\n",
    "    \n",
    "    for a in (x2,x3,x4,x5,x6):\n",
    "        a.set_aspect('equal')\n",
    "\n",
    "    for a in (x3,x4,x5,x6):\n",
    "        a.get_yaxis().set_ticks([])\n",
    "    \n",
    "    wf = Wavefront(aperture * np.exp(2j * np.pi * pupil_grid.y * dy))\n",
    "\n",
    "    img_ref = prop(wf).intensity\n",
    "    \n",
    "    focal_plane_mask_diameter = mdim\n",
    "    focal_plane_mask_offset = [0, 0]\n",
    "\n",
    "    focal_plane_mask_grid = make_focal_grid(64, focal_plane_mask_diameter / 2).shifted(focal_plane_mask_offset)\n",
    "\n",
    "    focal_plane_mask = lambda grid: 1 - make_circular_aperture(focal_plane_mask_diameter, center=focal_plane_mask_offset)(grid)\n",
    "\n",
    "    focal_plane_mask_evaluated = evaluate_supersampled(focal_plane_mask, focal_plane_mask_grid, 8)\n",
    "\n",
    "    lyot_stop = evaluate_supersampled(make_circular_aperture(b), pupil_grid, 4)\n",
    "\n",
    "    \n",
    "    # make two coronagraph propagations to pupil plane - one with lyot mask, one without\n",
    "    coro = LyotCoronagraph(pupil_grid, focal_plane_mask_evaluated, lyot_stop)\n",
    "    coro_without_lyot = LyotCoronagraph(pupil_grid, focal_plane_mask_evaluated, None)\n",
    "\n",
    "    \n",
    "    img_before_fpm = prop(wf)\n",
    "\n",
    "    imshow_field(np.log10(img_before_fpm.intensity / img_ref.max()), vmin=-5, vmax=0, cmap='inferno', ax=x2)\n",
    "    addtext(x2,\"B\")\n",
    "\n",
    "    img_after_fpm = img_before_fpm.copy()\n",
    "    img_after_fpm.electric_field *=focal_plane_mask(img_after_fpm.electric_field.grid)\n",
    "\n",
    "    C = img_after_fpm.intensity\n",
    "    C[(C<1e-5)] = 1e-5\n",
    "    \n",
    "    print(C.min())\n",
    "    \n",
    "    imshow_field(np.log10(C / img_ref.max()), vmin=-5, vmax=0, cmap='inferno', ax=x3)\n",
    "    addtext(x3,\"C\")\n",
    "\n",
    "    img_before_lyot_stop = coro_without_lyot(wf)\n",
    "\n",
    "    imshow_field(img_before_lyot_stop.intensity, vmax=1, cmap='inferno', ax=x4)\n",
    "    addtext(x4,\"D\")\n",
    "\n",
    "    img_after_lyot_stop = coro(wf)\n",
    "    \n",
    "    imshow_field(img_after_lyot_stop.intensity, vmax=1, cmap='inferno', ax=x5)\n",
    "    addtext(x5,\"E\")\n",
    "\n",
    "    img_science_plane = prop(coro(wf))\n",
    "    imshow_field(np.log10(img_science_plane.intensity/img_ref.max()), vmin=-5, vmax=0, cmap='inferno', ax=x6)\n",
    "    addtext(x6,\"F\")\n",
    "\n",
    "    x2.scatter(0,0,marker='.',color='white')\n",
    "    #x4.scatter(0,0,marker='.',color='white')\n",
    "    x5.add_patch(patches.Circle((0,0), radius=0.5, fill=None,edgecolor='white',linestyle='--'))\n",
    "    plt.show()\n",
    "\n",
    "interactive_plot = interactive(f, dy=(0.0, 5.0), mdim=(0.5,4.0), b=(0.2, 1.5))\n",
    "output = interactive_plot.children[-1]\n",
    "output.layout.height = '210px'\n",
    "interactive_plot"
   ]
  },
  {
   "cell_type": "markdown",
   "metadata": {},
   "source": [
    "![Coronagraph layout](coronagraph.jpg)"
   ]
  }
 ],
 "metadata": {
  "kernelspec": {
   "display_name": "araaEnv",
   "language": "python",
   "name": "araaenv"
  },
  "language_info": {
   "codemirror_mode": {
    "name": "ipython",
    "version": 3
   },
   "file_extension": ".py",
   "mimetype": "text/x-python",
   "name": "python",
   "nbconvert_exporter": "python",
   "pygments_lexer": "ipython3",
   "version": "3.12.3"
  }
 },
 "nbformat": 4,
 "nbformat_minor": 4
}
