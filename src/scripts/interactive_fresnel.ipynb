{
 "cells": [
  {
   "cell_type": "code",
   "execution_count": null,
   "id": "93ecad43",
   "metadata": {},
   "outputs": [],
   "source": [
    "from hcipy import *\n",
    "\n",
    "import numpy as np\n",
    "import matplotlib.pyplot as plt\n",
    "import ipywidgets as widgets\n",
    "\n",
    "%matplotlib inline\n"
   ]
  },
  {
   "cell_type": "code",
   "execution_count": null,
   "id": "24d1992b",
   "metadata": {},
   "outputs": [],
   "source": [
    "def double_plot(a, b, title='', xlabel='', ylabel='', **kwargs):\n",
    "    '''A function to nicely show two fields side-to-side.\n",
    "    '''\n",
    "    fig, axes = plt.subplots(1, 2, gridspec_kw={'left': 0.14, 'right': 0.98, 'top': 0.95, 'bottom': 0.07, 'wspace': 0.02})\n",
    "    fig.suptitle(title)\n",
    "\n",
    "    imshow_field(a, **kwargs, ax=axes[0])\n",
    "    imshow_field(b, **kwargs, ax=axes[1])\n",
    "\n",
    "    axes[1].yaxis.set_ticks([])\n",
    "    axes[0].set_xlabel(xlabel)\n",
    "    axes[1].set_xlabel(xlabel)\n",
    "    axes[0].set_ylabel(ylabel)\n",
    "\n",
    "    return fig\n"
   ]
  },
  {
   "cell_type": "code",
   "execution_count": null,
   "id": "428cbe3e",
   "metadata": {},
   "outputs": [],
   "source": [
    "pupil_diameter = 3e-3 # meter\n",
    "wavelength = 500e-9 # meter\n",
    "\n",
    "pupil_grid = make_pupil_grid(256, 1.2 * pupil_diameter)\n",
    "aperture_circ = evaluate_supersampled(make_circular_aperture(pupil_diameter), pupil_grid, 8)\n",
    "\n",
    "aperture_luvoir = evaluate_supersampled(make_luvoir_a_aperture(True), pupil_grid.scaled(1 / pupil_diameter), 8)\n",
    "aperture_luvoir.grid = pupil_grid\n",
    "\n",
    "wf_circ = Wavefront(aperture_circ, wavelength)\n",
    "wf_luvoir = Wavefront(aperture_luvoir, wavelength)"
   ]
  },
  {
   "cell_type": "code",
   "execution_count": null,
   "id": "a07206c3",
   "metadata": {},
   "outputs": [],
   "source": [
    "w = widgets.FloatSlider(\n",
    "    value=0.05,\n",
    "    min=0,\n",
    "    max=1.0,\n",
    "    step=0.05,\n",
    "    description='Distance [m]:',\n",
    "    disabled=False,\n",
    "    continuous_update=False,\n",
    "    orientation='horizontal',\n",
    "    readout=True,\n",
    "    readout_format='.2f',\n",
    ")"
   ]
  },
  {
   "cell_type": "code",
   "execution_count": null,
   "id": "085aeb51",
   "metadata": {},
   "outputs": [],
   "source": [
    "def fresnel_widget(pd=0.1,saveit=0): # pd is propagation distance in meters\n",
    "    fresnel = FresnelPropagator(pupil_grid, pd)\n",
    "    img_circ = fresnel(wf_circ)\n",
    "    img_luvoir = fresnel(wf_luvoir)\n",
    "    fig = double_plot(img_circ.intensity, img_luvoir.intensity,\n",
    "            xlabel='x [mm]', ylabel='y [mm]',\n",
    "            vmax=2, cmap='inferno', grid_units=1e-3)\n",
    "    if saveit:\n",
    "        plt.savefig(\"test.pdf\")\n",
    "        return\n",
    "    plt.show()\n",
    "\n",
    "widgets.interact(fresnel_widget,pd=w,saveit=1);\n",
    "\n",
    "    \n",
    "widgets.interact(fresnel_widget,pd=w);\n"
   ]
  },
  {
   "cell_type": "code",
   "execution_count": null,
   "id": "99c29027",
   "metadata": {},
   "outputs": [],
   "source": []
  }
 ],
 "metadata": {
  "language_info": {
   "name": "python"
  }
 },
 "nbformat": 4,
 "nbformat_minor": 5
}
