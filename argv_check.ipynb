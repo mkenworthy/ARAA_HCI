{
 "cells": [
  {
   "cell_type": "code",
   "execution_count": null,
   "id": "9e5ab2dc-b674-40d7-83d9-4f85a9204f2a",
   "metadata": {},
   "outputs": [],
   "source": [
    "from sys import argv\n",
    "print(argv)\n",
    "from contextlib import redirect_stdout\n",
    "\n",
    "with open('out.txt', 'w') as f:\n",
    "    print('Argv:', argv, file=f)\n"
   ]
  },
  {
   "cell_type": "code",
   "execution_count": null,
   "id": "559d0937-3440-4a19-9f77-1189cc812297",
   "metadata": {},
   "outputs": [],
   "source": [
    "import numpy as np\n",
    "import matplotlib.pyplot as plt"
   ]
  },
  {
   "cell_type": "code",
   "execution_count": null,
   "id": "5c65a7df-23e1-4c24-96ce-1d7b8aba8efe",
   "metadata": {},
   "outputs": [],
   "source": [
    "from datetime import datetime\n",
    "\n",
    "now = datetime.now()\n",
    "\n",
    "current_time = now.strftime(\"%H:%M:%S\")\n",
    "print(\"Current Time =\", current_time)"
   ]
  },
  {
   "cell_type": "code",
   "execution_count": null,
   "id": "d7c0c3c2-4752-48dc-b3d4-22842745a7c9",
   "metadata": {},
   "outputs": [],
   "source": [
    "fig, ax = plt.subplots()\n",
    "a = np.arange(10)\n",
    "ax.scatter(a,a**2)\n",
    "ax.set_title(current_time)\n",
    "plt.savefig(f\"argv_time_{current_time}.pdf\")"
   ]
  },
  {
   "cell_type": "code",
   "execution_count": null,
   "id": "8f270965-3dfc-4479-94c1-d16940e1e578",
   "metadata": {},
   "outputs": [],
   "source": []
  }
 ],
 "metadata": {
  "language_info": {
   "name": "python"
  }
 },
 "nbformat": 4,
 "nbformat_minor": 5
}
